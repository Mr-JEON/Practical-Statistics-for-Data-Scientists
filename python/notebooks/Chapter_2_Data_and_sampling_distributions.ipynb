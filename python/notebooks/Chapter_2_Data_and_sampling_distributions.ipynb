{
  "cells": [
    {
      "cell_type": "markdown",
      "metadata": {
        "id": "view-in-github",
        "colab_type": "text"
      },
      "source": [
        "<a href=\"https://colab.research.google.com/github/Mr-JEON/practical-statistics-for-data-scientists/blob/main/python/notebooks/Chapter_2_Data_and_sampling_distributions.ipynb\" target=\"_parent\"><img src=\"https://colab.research.google.com/assets/colab-badge.svg\" alt=\"Open In Colab\"/></a>"
      ]
    },
    {
      "cell_type": "markdown",
      "metadata": {
        "id": "RzknV9GaLtbQ"
      },
      "source": [
        "# Practical Statistics for Data Scientists (Python)\n",
        "# Chapter 2. Data and Sampling Distributions\n",
        "> (c) 2019 Peter C. Bruce, Andrew Bruce, Peter Gedeck"
      ]
    },
    {
      "cell_type": "markdown",
      "metadata": {
        "id": "RIVvAtpCLtbS"
      },
      "source": [
        "Import required Python packages."
      ]
    },
    {
      "cell_type": "code",
      "execution_count": 1,
      "metadata": {
        "execution": {
          "iopub.execute_input": "2022-04-26T19:41:46.270735Z",
          "iopub.status.busy": "2022-04-26T19:41:46.270427Z",
          "iopub.status.idle": "2022-04-26T19:41:47.449048Z",
          "shell.execute_reply": "2022-04-26T19:41:47.448579Z"
        },
        "id": "9pBrVhvFLtbT"
      },
      "outputs": [],
      "source": [
        "%matplotlib inline\n",
        "\n",
        "from pathlib import Path\n",
        "import pandas as pd\n",
        "import numpy as np\n",
        "from scipy import stats\n",
        "from sklearn.utils import resample\n",
        "\n",
        "import seaborn as sns\n",
        "import matplotlib.pylab as plt"
      ]
    },
    {
      "cell_type": "code",
      "execution_count": 2,
      "metadata": {
        "execution": {
          "iopub.execute_input": "2022-04-26T19:41:47.454586Z",
          "iopub.status.busy": "2022-04-26T19:41:47.454306Z",
          "iopub.status.idle": "2022-04-26T19:41:47.800969Z",
          "shell.execute_reply": "2022-04-26T19:41:47.800533Z"
        },
        "id": "Q-1fhIetLtbU"
      },
      "outputs": [],
      "source": [
        "try:\n",
        "    import common\n",
        "    DATA = common.dataDirectory()\n",
        "except ImportError:\n",
        "    DATA = Path().resolve() / 'data'"
      ]
    },
    {
      "cell_type": "markdown",
      "metadata": {
        "id": "AEk9iNAPLtbV"
      },
      "source": [
        "Define paths to data sets. If you don't keep your data in the same directory as the code, adapt the path names."
      ]
    },
    {
      "cell_type": "code",
      "execution_count": 3,
      "metadata": {
        "execution": {
          "iopub.execute_input": "2022-04-26T19:41:47.803929Z",
          "iopub.status.busy": "2022-04-26T19:41:47.803587Z",
          "iopub.status.idle": "2022-04-26T19:41:47.807163Z",
          "shell.execute_reply": "2022-04-26T19:41:47.806760Z"
        },
        "id": "D2sYLv6nLtbV"
      },
      "outputs": [],
      "source": [
        "LOANS_INCOME_CSV = DATA / 'loans_income.csv'\n",
        "SP500_DATA_CSV = DATA / 'sp500_data.csv.gz'"
      ]
    },
    {
      "cell_type": "markdown",
      "metadata": {
        "id": "MxFmkD_sLtbW"
      },
      "source": [
        "Figure 2.1"
      ]
    },
    {
      "cell_type": "code",
      "execution_count": null,
      "metadata": {
        "execution": {
          "iopub.execute_input": "2022-04-26T19:41:47.809973Z",
          "iopub.status.busy": "2022-04-26T19:41:47.809302Z",
          "iopub.status.idle": "2022-04-26T19:41:47.911261Z",
          "shell.execute_reply": "2022-04-26T19:41:47.910700Z"
        },
        "id": "NdU6b_FxLtbW",
        "outputId": "d78ffc96-d8fa-40e6-fbf1-a5869fc57ba8"
      },
      "outputs": [
        {
          "data": {
            "image/png": "[encoded data removed]",
            "text/plain": [
              "<Figure size 360x108 with 2 Axes>"
            ]
          },
          "metadata": {
            "needs_background": "light"
          },
          "output_type": "display_data"
        }
      ],
      "source": [
        "np.random.seed(seed=1)\n",
        "x = np.linspace(-3, 3, 300)\n",
        "xsample = stats.norm.rvs(size=1000)\n",
        "\n",
        "fig, axes = plt.subplots(ncols=2, figsize=(5, 1.5))\n",
        "\n",
        "ax = axes[0]\n",
        "ax.fill(x, stats.norm.pdf(x))\n",
        "ax.set_axis_off()\n",
        "ax.set_xlim(-3, 3)\n",
        "\n",
        "ax = axes[1]\n",
        "ax.hist(xsample, bins=30)\n",
        "ax.set_axis_off()\n",
        "ax.set_xlim(-3, 3)\n",
        "ax.set_position\n",
        "# plt.subplots_adjust(left=0, bottom=0, right=1, top=1, wspace=0, hspace=0)\n",
        "\n",
        "plt.show()"
      ]
    },
    {
      "cell_type": "markdown",
      "metadata": {
        "id": "qEagkSmXLtbX"
      },
      "source": [
        "# Sampling Distribution of a Statistic"
      ]
    },
    {
      "cell_type": "code",
      "execution_count": null,
      "metadata": {
        "execution": {
          "iopub.execute_input": "2022-04-26T19:41:47.914994Z",
          "iopub.status.busy": "2022-04-26T19:41:47.913991Z",
          "iopub.status.idle": "2022-04-26T19:41:49.730067Z",
          "shell.execute_reply": "2022-04-26T19:41:49.729028Z"
        },
        "scrolled": false,
        "id": "_2k7ILKYLtbX",
        "outputId": "ebbdcf3a-3162-473f-e901-b172b95c1205"
      },
      "outputs": [
        {
          "name": "stdout",
          "output_type": "stream",
          "text": [
            "         income  type\n",
            "40292   63000.0  Data\n",
            "38959   92000.0  Data\n",
            "17361  134000.0  Data\n",
            "33996   52000.0  Data\n",
            "26491   43000.0  Data\n"
          ]
        }
      ],
      "source": [
        "loans_income = pd.read_csv(LOANS_INCOME_CSV).squeeze('columns')\n",
        "\n",
        "sample_data = pd.DataFrame({\n",
        "    'income': loans_income.sample(1000),\n",
        "    'type': 'Data',\n",
        "})\n",
        "\n",
        "sample_mean_05 = pd.DataFrame({\n",
        "    'income': [loans_income.sample(5).mean() for _ in range(1000)],\n",
        "    'type': 'Mean of 5',\n",
        "})\n",
        "\n",
        "sample_mean_20 = pd.DataFrame({\n",
        "    'income': [loans_income.sample(20).mean() for _ in range(1000)],\n",
        "    'type': 'Mean of 20',\n",
        "})\n",
        "\n",
        "results = pd.concat([sample_data, sample_mean_05, sample_mean_20])\n",
        "print(results.head())"
      ]
    },
    {
      "cell_type": "code",
      "execution_count": null,
      "metadata": {
        "execution": {
          "iopub.execute_input": "2022-04-26T19:41:49.733943Z",
          "iopub.status.busy": "2022-04-26T19:41:49.733731Z",
          "iopub.status.idle": "2022-04-26T19:41:50.343637Z",
          "shell.execute_reply": "2022-04-26T19:41:50.342690Z"
        },
        "scrolled": false,
        "id": "QSNg0g8zLtbX",
        "outputId": "78372e4e-207d-4f74-b983-32c62f960629"
      },
      "outputs": [
        {
          "data": {
            "image/png": "[encoded data removed]",
            "text/plain": [
              "<Figure size 288x432 with 3 Axes>"
            ]
          },
          "metadata": {
            "needs_background": "light"
          },
          "output_type": "display_data"
        }
      ],
      "source": [
        "g = sns.FacetGrid(results, col='type', col_wrap=1, \n",
        "                  height=2, aspect=2)\n",
        "g.map(plt.hist, 'income', range=[0, 200000], bins=40)\n",
        "g.set_axis_labels('Income', 'Count')\n",
        "g.set_titles('{col_name}')\n",
        "\n",
        "plt.tight_layout()\n",
        "plt.show()"
      ]
    },
    {
      "cell_type": "markdown",
      "metadata": {
        "id": "yQDgZ7r_LtbY"
      },
      "source": [
        "# The Bootstrap"
      ]
    },
    {
      "cell_type": "code",
      "execution_count": null,
      "metadata": {
        "execution": {
          "iopub.execute_input": "2022-04-26T19:41:50.346925Z",
          "iopub.status.busy": "2022-04-26T19:41:50.346631Z",
          "iopub.status.idle": "2022-04-26T19:41:51.992214Z",
          "shell.execute_reply": "2022-04-26T19:41:51.991530Z"
        },
        "scrolled": false,
        "id": "tqgAnSuLLtbY",
        "outputId": "29085cbd-9d05-492b-a9a9-858b39ee55c7"
      },
      "outputs": [
        {
          "name": "stdout",
          "output_type": "stream",
          "text": [
            "Bootstrap Statistics:\n",
            "original: 62000.0\n",
            "bias: -82.09799999999814\n",
            "std. error: 228.73933106830927\n"
          ]
        }
      ],
      "source": [
        "results = []\n",
        "for nrepeat in range(1000):\n",
        "    sample = resample(loans_income)\n",
        "    results.append(sample.median())\n",
        "results = pd.Series(results)\n",
        "print('Bootstrap Statistics:')\n",
        "print(f'original: {loans_income.median()}')\n",
        "print(f'bias: {results.mean() - loans_income.median()}')\n",
        "print(f'std. error: {results.std()}')"
      ]
    },
    {
      "cell_type": "markdown",
      "metadata": {
        "id": "jJfVWux7LtbY"
      },
      "source": [
        "# Confidence Intervals"
      ]
    },
    {
      "cell_type": "code",
      "execution_count": null,
      "metadata": {
        "execution": {
          "iopub.execute_input": "2022-04-26T19:41:51.996138Z",
          "iopub.status.busy": "2022-04-26T19:41:51.995010Z",
          "iopub.status.idle": "2022-04-26T19:41:52.315215Z",
          "shell.execute_reply": "2022-04-26T19:41:52.314215Z"
        },
        "id": "Z85wjosKLtbY",
        "outputId": "11709672-3af6-4d8b-dabd-4f8caea586d3"
      },
      "outputs": [
        {
          "name": "stdout",
          "output_type": "stream",
          "text": [
            "68760.51844\n",
            "55734.1\n"
          ]
        },
        {
          "data": {
            "image/png": "[encoded data removed]",
            "text/plain": [
              "<Figure size 288x216 with 1 Axes>"
            ]
          },
          "metadata": {
            "needs_background": "light"
          },
          "output_type": "display_data"
        }
      ],
      "source": [
        "print(loans_income.mean())\n",
        "np.random.seed(seed=3)  \n",
        "# create a sample of 20 loan income data\n",
        "sample20 = resample(loans_income, n_samples=20, replace=False)\n",
        "print(sample20.mean())\n",
        "results = []\n",
        "for nrepeat in range(500):\n",
        "    sample = resample(sample20)\n",
        "    results.append(sample.mean())\n",
        "results = pd.Series(results)\n",
        "\n",
        "confidence_interval = list(results.quantile([0.05, 0.95]))\n",
        "ax = results.plot.hist(bins=30, figsize=(4, 3))\n",
        "ax.plot(confidence_interval, [55, 55], color='black')\n",
        "for x in confidence_interval:\n",
        "    ax.plot([x, x], [0, 65], color='black')\n",
        "    ax.text(x, 70, f'{x:.0f}', \n",
        "            horizontalalignment='center', verticalalignment='center')\n",
        "ax.text(sum(confidence_interval) / 2, 60, '90% interval',\n",
        "        horizontalalignment='center', verticalalignment='center')\n",
        "\n",
        "meanIncome = results.mean()\n",
        "ax.plot([meanIncome, meanIncome], [0, 50], color='black', linestyle='--')\n",
        "ax.text(meanIncome, 10, f'Mean: {meanIncome:.0f}',\n",
        "        bbox=dict(facecolor='white', edgecolor='white', alpha=0.5),\n",
        "        horizontalalignment='center', verticalalignment='center')\n",
        "ax.set_ylim(0, 80)\n",
        "ax.set_ylabel('Counts')\n",
        "\n",
        "plt.tight_layout()\n",
        "plt.show()"
      ]
    },
    {
      "cell_type": "code",
      "execution_count": null,
      "metadata": {
        "execution": {
          "iopub.execute_input": "2022-04-26T19:41:52.318290Z",
          "iopub.status.busy": "2022-04-26T19:41:52.317961Z",
          "iopub.status.idle": "2022-04-26T19:41:52.751872Z",
          "shell.execute_reply": "2022-04-26T19:41:52.751136Z"
        },
        "id": "-KkttEsILtbZ",
        "outputId": "cdf1962b-bdf1-4e9d-951f-06424ef558ca"
      },
      "outputs": [
        {
          "data": {
            "text/plain": [
              "Text(0, 0.5, 'Counts')"
            ]
          },
          "execution_count": 9,
          "metadata": {},
          "output_type": "execute_result"
        },
        {
          "data": {
            "image/png": "[encoded data removed]",
            "text/plain": [
              "<Figure size 288x216 with 1 Axes>"
            ]
          },
          "metadata": {
            "needs_background": "light"
          },
          "output_type": "display_data"
        }
      ],
      "source": [
        "np.random.seed(seed=3)\n",
        "# create a sample of 20 loan income data\n",
        "sample20 = resample(loans_income, n_samples=20, replace=False)\n",
        "\n",
        "results = []\n",
        "for nrepeat in range(500):\n",
        "    sample = resample(sample20)\n",
        "    results.append(sample.mean())\n",
        "results = pd.Series(results)\n",
        "\n",
        "confidence_interval = list(results.quantile([0.05, 0.95]))\n",
        "ax = results.plot.hist(bins=30, figsize=(4, 3), color='C1')\n",
        "ax.plot(confidence_interval, [55, 55], color='black', linestyle='--')\n",
        "for x in confidence_interval:\n",
        "    ax.plot([x, x], [0, 60], color='black')\n",
        "ax.text(82000, 50, \n",
        "        f'90% CI\\n[{confidence_interval[0]:.0f}, {confidence_interval[1]:.0f}]',\n",
        "       fontsize='small')\n",
        "\n",
        "confidence_interval = list(results.quantile([0.025, 0.975]))\n",
        "ax = results.plot.hist(bins=30, figsize=(4, 3))\n",
        "ax.plot(confidence_interval, [65, 65], color='black', linestyle='--')\n",
        "for x in confidence_interval:\n",
        "    ax.plot([x, x], [0, 70], color='black')\n",
        "ax.text(82000, 65, \n",
        "        f'95% CI\\n[{confidence_interval[0]:.0f}, {confidence_interval[1]:.0f}]',\n",
        "       fontsize='small')\n",
        "# ax.text(sum(confidence_interval) / 2, 264, '95 % interval',\n",
        "#         horizontalalignment='center', verticalalignment='center')\n",
        "\n",
        "meanIncome = results.mean()\n",
        "ax.plot([meanIncome, meanIncome], [0, 50], color='black', linestyle='--')\n",
        "ax.text(meanIncome, 5, f'Mean: {meanIncome:.0f}',\n",
        "        bbox=dict(facecolor='white', edgecolor='white', alpha=0.5),\n",
        "        horizontalalignment='center', verticalalignment='center')\n",
        "ax.set_ylim(0, 80)\n",
        "ax.set_xlim(37000, 102000)\n",
        "ax.set_xticks([40000, 50000, 60000, 70000, 80000])\n",
        "ax.set_ylabel('Counts')\n",
        "\n",
        "# plt.tight_layout()\n",
        "# plt.show()"
      ]
    },
    {
      "cell_type": "markdown",
      "metadata": {
        "id": "lBZ6eu3mLtbZ"
      },
      "source": [
        "# Normal Distribution\n",
        "## Standard Normal and QQ-Plots\n",
        "The package _scipy_ has the function (`scipy.stats.probplot`) to create QQ-plots. The argument `dist` specifies the distribution, which is set by default to the normal distribution."
      ]
    },
    {
      "cell_type": "code",
      "execution_count": null,
      "metadata": {
        "execution": {
          "iopub.execute_input": "2022-04-26T19:41:52.755679Z",
          "iopub.status.busy": "2022-04-26T19:41:52.755291Z",
          "iopub.status.idle": "2022-04-26T19:41:52.876680Z",
          "shell.execute_reply": "2022-04-26T19:41:52.875829Z"
        },
        "id": "X42Y-36yLtbZ",
        "outputId": "5dda7b39-f640-40bd-ece9-76f1fac1f425"
      },
      "outputs": [
        {
          "data": {
            "image/png": "[encoded data removed]",
            "text/plain": [
              "<Figure size 288x288 with 1 Axes>"
            ]
          },
          "metadata": {
            "needs_background": "light"
          },
          "output_type": "display_data"
        }
      ],
      "source": [
        "fig, ax = plt.subplots(figsize=(4, 4))\n",
        "\n",
        "norm_sample = stats.norm.rvs(size=100)\n",
        "stats.probplot(norm_sample, plot=ax)\n",
        "\n",
        "plt.tight_layout()\n",
        "plt.show()"
      ]
    },
    {
      "cell_type": "markdown",
      "metadata": {
        "id": "DidFqC9eLtba"
      },
      "source": [
        "# Long-Tailed Distributions"
      ]
    },
    {
      "cell_type": "code",
      "execution_count": null,
      "metadata": {
        "execution": {
          "iopub.execute_input": "2022-04-26T19:41:52.880054Z",
          "iopub.status.busy": "2022-04-26T19:41:52.879380Z",
          "iopub.status.idle": "2022-04-26T19:41:53.980552Z",
          "shell.execute_reply": "2022-04-26T19:41:53.979822Z"
        },
        "id": "0IALnRwaLtba",
        "outputId": "38876cbf-dc69-4061-f015-d34d3f481d2c"
      },
      "outputs": [
        {
          "data": {
            "image/png": "[encoded data removed]",
            "text/plain": [
              "<Figure size 288x288 with 1 Axes>"
            ]
          },
          "metadata": {
            "needs_background": "light"
          },
          "output_type": "display_data"
        }
      ],
      "source": [
        "sp500_px = pd.read_csv(SP500_DATA_CSV)\n",
        "\n",
        "nflx = sp500_px.NFLX\n",
        "nflx = np.diff(np.log(nflx[nflx>0]))\n",
        "\n",
        "fig, ax = plt.subplots(figsize=(4, 4))\n",
        "stats.probplot(nflx, plot=ax)\n",
        "\n",
        "plt.tight_layout()\n",
        "plt.show()"
      ]
    },
    {
      "cell_type": "markdown",
      "metadata": {
        "id": "2V70AUUuLtba"
      },
      "source": [
        "# Binomial Distribution"
      ]
    },
    {
      "cell_type": "code",
      "execution_count": 4,
      "metadata": {
        "execution": {
          "iopub.execute_input": "2022-04-26T19:41:53.983257Z",
          "iopub.status.busy": "2022-04-26T19:41:53.983072Z",
          "iopub.status.idle": "2022-04-26T19:41:53.988009Z",
          "shell.execute_reply": "2022-04-26T19:41:53.987145Z"
        },
        "colab": {
          "base_uri": "https://localhost:8080/"
        },
        "id": "28nYlg0uLtba",
        "outputId": "f5982199-6cd8-4330-82fa-b7bab1c321e1"
      },
      "outputs": [
        {
          "output_type": "stream",
          "name": "stdout",
          "text": [
            "0.07289999999999992\n"
          ]
        }
      ],
      "source": [
        "print(stats.binom.pmf(2, n=5, p=0.1))"
      ]
    },
    {
      "cell_type": "code",
      "execution_count": 5,
      "metadata": {
        "execution": {
          "iopub.execute_input": "2022-04-26T19:41:53.990782Z",
          "iopub.status.busy": "2022-04-26T19:41:53.990595Z",
          "iopub.status.idle": "2022-04-26T19:41:53.995338Z",
          "shell.execute_reply": "2022-04-26T19:41:53.994553Z"
        },
        "colab": {
          "base_uri": "https://localhost:8080/"
        },
        "id": "7TnCTxsULtba",
        "outputId": "b71890e1-5b66-4eea-eaf4-0f36706a4a06"
      },
      "outputs": [
        {
          "output_type": "stream",
          "name": "stdout",
          "text": [
            "0.99144\n"
          ]
        }
      ],
      "source": [
        "print(stats.binom.cdf(2, n=5, p=0.1))"
      ]
    },
    {
      "cell_type": "markdown",
      "metadata": {
        "id": "BwNYdDdXLtbb"
      },
      "source": [
        "# Poisson and Related Distribution\n",
        "## Poisson Distributions"
      ]
    },
    {
      "cell_type": "code",
      "execution_count": 9,
      "metadata": {
        "execution": {
          "iopub.execute_input": "2022-04-26T19:41:53.997968Z",
          "iopub.status.busy": "2022-04-26T19:41:53.997781Z",
          "iopub.status.idle": "2022-04-26T19:41:54.098998Z",
          "shell.execute_reply": "2022-04-26T19:41:54.098233Z"
        },
        "colab": {
          "base_uri": "https://localhost:8080/",
          "height": 430
        },
        "id": "hpUsy9mnLtbb",
        "outputId": "980f3387-ade2-41e3-a007-d8ff67ec4a08"
      },
      "outputs": [
        {
          "output_type": "display_data",
          "data": {
            "text/plain": [
              "<Figure size 640x480 with 1 Axes>"
            ],
            "image/png": "[encoded data removed]"
          },
          "metadata": {}
        }
      ],
      "source": [
        "sample = stats.poisson.rvs(2, size=100)\n",
        "\n",
        "pd.Series(sample).plot.hist()\n",
        "plt.show()"
      ]
    },
    {
      "cell_type": "markdown",
      "metadata": {
        "id": "_hAiUQJeLtbb"
      },
      "source": [
        "## Exponential Distribution"
      ]
    },
    {
      "cell_type": "code",
      "execution_count": 10,
      "metadata": {
        "execution": {
          "iopub.execute_input": "2022-04-26T19:41:54.107386Z",
          "iopub.status.busy": "2022-04-26T19:41:54.107155Z",
          "iopub.status.idle": "2022-04-26T19:41:54.205587Z",
          "shell.execute_reply": "2022-04-26T19:41:54.204697Z"
        },
        "colab": {
          "base_uri": "https://localhost:8080/",
          "height": 430
        },
        "id": "JY5UTIaTLtbb",
        "outputId": "855064a4-a588-4186-fcbf-2897749238b5"
      },
      "outputs": [
        {
          "output_type": "display_data",
          "data": {
            "text/plain": [
              "<Figure size 640x480 with 1 Axes>"
            ],
            "image/png": "[encoded data removed]"
          },
          "metadata": {}
        }
      ],
      "source": [
        "sample = stats.expon.rvs(scale=5, size=100)\n",
        "\n",
        "pd.Series(sample).plot.hist()\n",
        "plt.show()"
      ]
    },
    {
      "cell_type": "markdown",
      "metadata": {
        "id": "j4wL4iX0Ltbb"
      },
      "source": [
        "##  Weibull Distribution"
      ]
    },
    {
      "cell_type": "code",
      "execution_count": 19,
      "metadata": {
        "execution": {
          "iopub.execute_input": "2022-04-26T19:41:54.208747Z",
          "iopub.status.busy": "2022-04-26T19:41:54.208569Z",
          "iopub.status.idle": "2022-04-26T19:41:54.309424Z",
          "shell.execute_reply": "2022-04-26T19:41:54.308748Z"
        },
        "scrolled": true,
        "colab": {
          "base_uri": "https://localhost:8080/",
          "height": 430
        },
        "id": "-b_-UbciLtbb",
        "outputId": "08374eb5-cece-4859-f3fa-e8a0430f52c7"
      },
      "outputs": [
        {
          "output_type": "display_data",
          "data": {
            "text/plain": [
              "<Figure size 640x480 with 1 Axes>"
            ],
            "image/png": "[encoded data removed]"
          },
          "metadata": {}
        }
      ],
      "source": [
        "sample = stats.weibull_min.rvs(10.0, scale=8000, size=100)\n",
        "\n",
        "pd.Series(sample).plot.hist()\n",
        "plt.show()"
      ]
    }
  ],
  "metadata": {
    "kernelspec": {
      "display_name": "Python 3",
      "name": "python3"
    },
    "language_info": {
      "codemirror_mode": {
        "name": "ipython",
        "version": 3
      },
      "file_extension": ".py",
      "mimetype": "text/x-python",
      "name": "python",
      "nbconvert_exporter": "python",
      "pygments_lexer": "ipython3",
      "version": "3.9.10"
    },
    "colab": {
      "provenance": [],
      "gpuType": "A100",
      "include_colab_link": true
    },
    "accelerator": "GPU"
  },
  "nbformat": 4,
  "nbformat_minor": 0
}